{
  "nbformat": 4,
  "nbformat_minor": 0,
  "metadata": {
    "colab": {
      "name": "6_Assignment_NB_Instructions.ipynb",
      "provenance": [],
      "collapsed_sections": [],
      "include_colab_link": true
    },
    "language_info": {
      "codemirror_mode": {
        "name": "ipython",
        "version": 3
      },
      "file_extension": ".py",
      "mimetype": "text/x-python",
      "name": "python",
      "nbconvert_exporter": "python",
      "pygments_lexer": "ipython3",
      "version": "3.6.8"
    },
    "kernelspec": {
      "display_name": "Python 3",
      "language": "python",
      "name": "python3"
    }
  },
  "cells": [
    {
      "cell_type": "markdown",
      "metadata": {
        "id": "view-in-github",
        "colab_type": "text"
      },
      "source": [
        "<a href=\"https://colab.research.google.com/github/satyamkumar073/A-sudoku-game-with-pygame/blob/master/6_Assignment_NB_Instructions.ipynb\" target=\"_parent\"><img src=\"https://colab.research.google.com/assets/colab-badge.svg\" alt=\"Open In Colab\"/></a>"
      ]
    },
    {
      "cell_type": "markdown",
      "metadata": {
        "id": "Dnubs-Nnb3cw"
      },
      "source": [
        "# Assignment 6: Apply NB"
      ]
    },
    {
      "cell_type": "markdown",
      "metadata": {
        "id": "RW0zYHb5m_wI"
      },
      "source": [
        "<ol>\n",
        "    <li>Minimum data points need to be considered for people having 4GB RAM is <strong>50k</strong> and for 8GB RAM is <strong>100k</strong></li>\n",
        "    <li>When you are using ramdomsearchcv or gridsearchcv you need not split the data into X_train,X_cv,X_test. As the above methods use kfold. The model will learn better if train data is more so splitting to X_train,X_test will suffice.</li>\n",
        "    <li>If you are writing for loops to tune your model then you need split the data into X_train,X_cv,X_test.</li>\n",
        "    <li>While splitting the data explore stratify parameter. </li>\n",
        "    <li><strong>Apply Multinomial NB on these feature sets</strong></li>\n",
        "        <ul>\n",
        "            <li>Features that need to be considered</li> \n",
        "                <dl>\n",
        "                  <dt>essay</dt>\n",
        "                    <dd>while encoding essay, try to experiment with the max_features and n_grams parameter of vectorizers and see if it increases AUC score.</dd>\n",
        "                  <dt>categorical features</dt>\n",
        "                  <dd> - teacher_prefix</dd>\n",
        "                  <dd> - project_grade_category</dd>\n",
        "                  <dd> - school_state</dd>\n",
        "                  <dd> - clean_categories</dd>\n",
        "                  <dd> - clean_subcategories</dd>\n",
        "                  <dt>numerical features</dt>\n",
        "                  <dd> - price</dd>\n",
        "                  <dd> - teacher_number_of_previously_posted_projects</dd>\n",
        "                  <dd>while encoding the numerical features check <a href='https://imgur.com/ldZA1zg'>this</a> and <a href='https://ac-classroom-production.s3.amazonaws.com/public/COMMENT/Annotation_2020-05-21_225912_0lyZzN8.jpg'>this</a></dd>\n",
        "                </dl>    \n",
        "            <li><font color='red'>Set 1</font>: categorical, numerical features + preprocessed_eassay (BOW)</li>\n",
        "            <li><font color='red'>Set 2</font>: categorical, numerical features + preprocessed_eassay (TFIDF)</li>\n",
        "        </ul>\n",
        "    <li><strong>The hyper paramter tuning(find best alpha:smoothing parameter)</strong>\n",
        "        <ul>\n",
        "    <li>Consider alpha values in range: 10^-5 to 10^2 like [0.00001,0.0005, 0.0001,0.005,0.001,0.05,0.01,0.1,0.5,1,5,10,50,100]</li>\n",
        "    <li>Explore class_prior = [0.5, 0.5] parameter which can be present in MultinomialNB function(go through <a href='https://scikit-learn.org/stable/modules/generated/sklearn.naive_bayes.MultinomialNB.html'>this</a> ) then check how results might change.\n",
        "    <li>Find the best hyper parameter which will give the maximum <a href='https://www.appliedaicourse.com/course/applied-ai-course-online/lessons/receiver-operating-characteristic-curve-roc-curve-and-auc-1/'>AUC</a> value</li>\n",
        "    <li>For hyper parameter tuning using k-fold cross validation(use GridsearchCV or RandomsearchCV)/simple cross validation data (write for loop to iterate over hyper parameter values)</li>\n",
        "    <li>You need to plot the performance of model both on train data and cross validation data for each hyper parameter, like shown in the figure\n",
        "    <img src='https://i.imgur.com/hUv6aEy.jpg' width=300px><dd>-while plotting take log(alpha) on your X-axis so that it will be more readable</dd></li>\n",
        "    <li>Once after you found the best hyper parameter, you need to train your model with it, and find the AUC on test data and plot the ROC curve on both train and test.\n",
        "    <img src='https://imgur.com/q2P65L5.jpg' width=300px></li>\n",
        "    <li>Along with plotting ROC curve, you need to print the <a href='https://www.appliedaicourse.com/course/applied-ai-course-online/lessons/confusion-matrix-tpr-fpr-fnr-tnr-1/'>confusion matrix</a> with predicted and original labels of test data points\n",
        "        <img src='https://i.imgur.com/IdN5Ctv.png' width=300px><dd>-plot the confusion matrix in heatmaps, while plotting the confusion matrix go through the <a href='https://stackoverflow.com/questions/61748441/how-to-fix-the-values-displayed-in-a-confusion-matrix-in-exponential-form-to-nor'>link </a>\n",
        "</dd></li>\n",
        "        </ul>\n",
        "<li>find the top 20 features from either from feature <font color='red'>Set 1</font> or feature <font color='red'>Set 2</font> using values of `feature_log_prob_ ` parameter of `MultinomialNB` \n",
        "(https://scikit-learn.org/stable/modules/generated/sklearn.naive_bayes.MultinomialNB.html) and print <strong>BOTH</strong> positive as well as negative corresponding feature names. <dd> - go through the <a href='https://imgur.com/mWvE7gj'>link </a> </dd>\n",
        "    </li>\n",
        "    <li>You need to summarize the results at the end of the notebook, summarize it in the table format\n",
        "        <img src='http://i.imgur.com/YVpIGGE.jpg' width=400px>\n",
        "    </li>\n",
        "</ol>"
      ]
    },
    {
      "cell_type": "markdown",
      "metadata": {
        "id": "heFeghQXQZJS"
      },
      "source": [
        "Importing Libaries:"
      ]
    },
    {
      "cell_type": "code",
      "metadata": {
        "id": "chpSjDaXm9KG"
      },
      "source": [
        "#import libraries\n",
        "import pandas as pd\n",
        "import numpy as np\n",
        "from tqdm import tqdm\n",
        "from sklearn.feature_extraction.text import CountVectorizer\n",
        "from sklearn.model_selection import train_test_split"
      ],
      "execution_count": 1,
      "outputs": []
    },
    {
      "cell_type": "code",
      "metadata": {
        "colab": {
          "base_uri": "https://localhost:8080/"
        },
        "id": "rkdp-6d_SrZS",
        "outputId": "53e61ddc-52b7-4be2-fb2b-f12ebf62b5f6"
      },
      "source": [
        "from google.colab import drive\n",
        "drive.mount(\"/content/drive\")"
      ],
      "execution_count": 2,
      "outputs": [
        {
          "output_type": "stream",
          "text": [
            "Mounted at /content/drive\n"
          ],
          "name": "stdout"
        }
      ]
    },
    {
      "cell_type": "code",
      "metadata": {
        "id": "u5IXI_QWT7sP"
      },
      "source": [
        ""
      ],
      "execution_count": 2,
      "outputs": []
    },
    {
      "cell_type": "markdown",
      "metadata": {
        "id": "inzYCIaib3c3"
      },
      "source": [
        "<h1>2. Naive Bayes </h1>"
      ]
    },
    {
      "cell_type": "markdown",
      "metadata": {
        "id": "FYqCIxzFb3c5"
      },
      "source": [
        "## 1.1 Loading Data"
      ]
    },
    {
      "cell_type": "code",
      "metadata": {
        "id": "dA1jknyqb3c_"
      },
      "source": [
        "data = pd.read_csv('/content/drive/MyDrive/drive-download-20210613T203319Z-001/preprocessed_data.csv')"
      ],
      "execution_count": 3,
      "outputs": []
    },
    {
      "cell_type": "code",
      "metadata": {
        "colab": {
          "base_uri": "https://localhost:8080/",
          "height": 204
        },
        "id": "4C2r5KlfUe2c",
        "outputId": "1b96a293-174b-4347-a7d5-8af907a0acfd"
      },
      "source": [
        "data.head()"
      ],
      "execution_count": 4,
      "outputs": [
        {
          "output_type": "execute_result",
          "data": {
            "text/html": [
              "<div>\n",
              "<style scoped>\n",
              "    .dataframe tbody tr th:only-of-type {\n",
              "        vertical-align: middle;\n",
              "    }\n",
              "\n",
              "    .dataframe tbody tr th {\n",
              "        vertical-align: top;\n",
              "    }\n",
              "\n",
              "    .dataframe thead th {\n",
              "        text-align: right;\n",
              "    }\n",
              "</style>\n",
              "<table border=\"1\" class=\"dataframe\">\n",
              "  <thead>\n",
              "    <tr style=\"text-align: right;\">\n",
              "      <th></th>\n",
              "      <th>school_state</th>\n",
              "      <th>teacher_prefix</th>\n",
              "      <th>project_grade_category</th>\n",
              "      <th>teacher_number_of_previously_posted_projects</th>\n",
              "      <th>project_is_approved</th>\n",
              "      <th>clean_categories</th>\n",
              "      <th>clean_subcategories</th>\n",
              "      <th>essay</th>\n",
              "      <th>price</th>\n",
              "    </tr>\n",
              "  </thead>\n",
              "  <tbody>\n",
              "    <tr>\n",
              "      <th>0</th>\n",
              "      <td>ca</td>\n",
              "      <td>mrs</td>\n",
              "      <td>grades_prek_2</td>\n",
              "      <td>53</td>\n",
              "      <td>1</td>\n",
              "      <td>math_science</td>\n",
              "      <td>appliedsciences health_lifescience</td>\n",
              "      <td>i fortunate enough use fairy tale stem kits cl...</td>\n",
              "      <td>725.05</td>\n",
              "    </tr>\n",
              "    <tr>\n",
              "      <th>1</th>\n",
              "      <td>ut</td>\n",
              "      <td>ms</td>\n",
              "      <td>grades_3_5</td>\n",
              "      <td>4</td>\n",
              "      <td>1</td>\n",
              "      <td>specialneeds</td>\n",
              "      <td>specialneeds</td>\n",
              "      <td>imagine 8 9 years old you third grade classroo...</td>\n",
              "      <td>213.03</td>\n",
              "    </tr>\n",
              "    <tr>\n",
              "      <th>2</th>\n",
              "      <td>ca</td>\n",
              "      <td>mrs</td>\n",
              "      <td>grades_prek_2</td>\n",
              "      <td>10</td>\n",
              "      <td>1</td>\n",
              "      <td>literacy_language</td>\n",
              "      <td>literacy</td>\n",
              "      <td>having class 24 students comes diverse learner...</td>\n",
              "      <td>329.00</td>\n",
              "    </tr>\n",
              "    <tr>\n",
              "      <th>3</th>\n",
              "      <td>ga</td>\n",
              "      <td>mrs</td>\n",
              "      <td>grades_prek_2</td>\n",
              "      <td>2</td>\n",
              "      <td>1</td>\n",
              "      <td>appliedlearning</td>\n",
              "      <td>earlydevelopment</td>\n",
              "      <td>i recently read article giving students choice...</td>\n",
              "      <td>481.04</td>\n",
              "    </tr>\n",
              "    <tr>\n",
              "      <th>4</th>\n",
              "      <td>wa</td>\n",
              "      <td>mrs</td>\n",
              "      <td>grades_3_5</td>\n",
              "      <td>2</td>\n",
              "      <td>1</td>\n",
              "      <td>literacy_language</td>\n",
              "      <td>literacy</td>\n",
              "      <td>my students crave challenge eat obstacles brea...</td>\n",
              "      <td>17.74</td>\n",
              "    </tr>\n",
              "  </tbody>\n",
              "</table>\n",
              "</div>"
            ],
            "text/plain": [
              "  school_state  ...   price\n",
              "0           ca  ...  725.05\n",
              "1           ut  ...  213.03\n",
              "2           ca  ...  329.00\n",
              "3           ga  ...  481.04\n",
              "4           wa  ...   17.74\n",
              "\n",
              "[5 rows x 9 columns]"
            ]
          },
          "metadata": {
            "tags": []
          },
          "execution_count": 4
        }
      ]
    },
    {
      "cell_type": "markdown",
      "metadata": {
        "id": "WtVV13Fyb3dH"
      },
      "source": [
        "<h2>1.2 Splitting data into Train and cross validation(or test): Stratified Sampling</h2>"
      ]
    },
    {
      "cell_type": "code",
      "metadata": {
        "id": "i-PyprDNb3dI"
      },
      "source": [
        "# please write all the code with proper documentation, and proper titles for each subsection\n",
        "# go through documentations and blogs before you start coding\n",
        "# first figure out what to do, and then think about how to do.\n",
        "# reading and understanding error messages will be very much helpfull in debugging your code\n",
        "# when you plot any graph make sure you use \n",
        "    # a. Title, that describes your plot, this will be very helpful to the reader\n",
        "    # b. Legends if needed\n",
        "    # c. X-axis label\n",
        "    # d. Y-axis label"
      ],
      "execution_count": 5,
      "outputs": []
    },
    {
      "cell_type": "code",
      "metadata": {
        "id": "sIpaNOUW5Pp9"
      },
      "source": [
        "y = data['project_is_approved'].values\n",
        "x = data.drop(['project_is_approved'], axis=1)\n",
        "X_train, X_test, y_train, y_test = train_test_split(x, y, test_size=0.33, stratify=y)\n",
        "#X_train, X_cv, y_train, y_cv = train_test_split(X_train, y_train, test_size=0.3)"
      ],
      "execution_count": 6,
      "outputs": []
    },
    {
      "cell_type": "markdown",
      "metadata": {
        "id": "EnZwVNULb3dO"
      },
      "source": [
        "<h2>1.3 Make Data Model Ready: encoding eassay, and project_title</h2>"
      ]
    },
    {
      "cell_type": "code",
      "metadata": {
        "id": "-SczZKiab3dR"
      },
      "source": [
        "# please write all the code with proper documentation, and proper titles for each subsection\n",
        "# go through documentations and blogs before you start coding\n",
        "# first figure out what to do, and then think about how to do.\n",
        "# reading and understanding error messages will be very much helpfull in debugging your code\n",
        "# make sure you featurize train and test data separatly\n",
        "\n",
        "# when you plot any graph make sure you use \n",
        "    # a. Title, that describes your plot, this will be very helpful to the reader\n",
        "    # b. Legends if needed\n",
        "    # c. X-axis label\n",
        "    # d. Y-axis label"
      ],
      "execution_count": 7,
      "outputs": []
    },
    {
      "cell_type": "code",
      "metadata": {
        "id": "T9HVML5-dcEv"
      },
      "source": [
        ""
      ],
      "execution_count": 7,
      "outputs": []
    },
    {
      "cell_type": "code",
      "metadata": {
        "colab": {
          "base_uri": "https://localhost:8080/"
        },
        "id": "6o4-ypFH5NLW",
        "outputId": "0db4ef2d-1b6c-44b6-cca1-bde31bb8f5a7"
      },
      "source": [
        "print(X_train.shape, y_train.shape)\n",
        "print(X_test.shape, y_test.shape)"
      ],
      "execution_count": 8,
      "outputs": [
        {
          "output_type": "stream",
          "text": [
            "(73196, 8) (73196,)\n",
            "(36052, 8) (36052,)\n"
          ],
          "name": "stdout"
        }
      ]
    },
    {
      "cell_type": "markdown",
      "metadata": {
        "id": "k8oIuNf2dyEx"
      },
      "source": [
        "BOW"
      ]
    },
    {
      "cell_type": "code",
      "metadata": {
        "colab": {
          "base_uri": "https://localhost:8080/"
        },
        "id": "aC01hjRQdhAH",
        "outputId": "6d122e26-4585-4a40-d221-3aaee67cb84d"
      },
      "source": [
        "# Reffered from Reference notebook 5\n",
        "from sklearn.feature_extraction.text import CountVectorizer\n",
        "vectorizer = CountVectorizer(min_df=10,ngram_range=(1,4), max_features=5000)\n",
        "vectorizer.fit(X_train['essay'].values)\n",
        "X_train_essay_bow = vectorizer.transform(X_train['essay'].values)\n",
        "X_test_essay_bow = vectorizer.transform(X_test['essay'].values)\n",
        "print('TrainData essay BOW',X_train_essay_bow.shape)\n",
        "print('TestData essay BOW',X_test_essay_bow.shape)\n",
        "features_Bow =vectorizer.get_feature_names()"
      ],
      "execution_count": 9,
      "outputs": [
        {
          "output_type": "stream",
          "text": [
            "TrainData essay BOW (73196, 5000)\n",
            "TestData essay BOW (36052, 5000)\n"
          ],
          "name": "stdout"
        }
      ]
    },
    {
      "cell_type": "markdown",
      "metadata": {
        "id": "Vy0jinfUexBB"
      },
      "source": [
        "TFIDF"
      ]
    },
    {
      "cell_type": "code",
      "metadata": {
        "colab": {
          "base_uri": "https://localhost:8080/"
        },
        "id": "7kAv6R4s5uFY",
        "outputId": "05e91196-f29f-4a4e-cbc2-fa40e0eb3baa"
      },
      "source": [
        "from sklearn.feature_extraction.text import TfidfVectorizer\n",
        "vectorizer = TfidfVectorizer(min_df=10, max_features=5000)\n",
        "vectorizer.fit(X_train['essay'].values)\n",
        "X_train_essay_tfidf = vectorizer.transform(X_train['essay'].values)\n",
        "X_test_essay_tfidf = vectorizer.transform(X_test['essay'].values)\n",
        "print(\"Shape of Train Data\",X_train_essay_tfidf.shape)\n",
        "print(\"Shape of Test Data TFIDF\",X_test_essay_tfidf.shape)\n",
        "features_tfidf = vectorizer.get_feature_names()"
      ],
      "execution_count": 10,
      "outputs": [
        {
          "output_type": "stream",
          "text": [
            "Shape of Train Data (73196, 5000)\n",
            "Shape of Test Data TFIDF (36052, 5000)\n"
          ],
          "name": "stdout"
        }
      ]
    },
    {
      "cell_type": "markdown",
      "metadata": {
        "id": "bGy86kgHb3dX"
      },
      "source": [
        "<h2>1.4 Make Data Model Ready: encoding numerical, categorical features</h2>"
      ]
    },
    {
      "cell_type": "code",
      "metadata": {
        "id": "EfXkofX1b3da"
      },
      "source": [
        "# please write all the code with proper documentation, and proper titles for each subsection\n",
        "# go through documentations and blogs before you start coding \n",
        "# first figure out what to do, and then think about how to do.\n",
        "# reading and understanding error messages will be very much helpfull in debugging your code\n",
        "# make sure you featurize train and test data separatly\n",
        "\n",
        "# when you plot any graph make sure you use \n",
        "    # a. Title, that describes your plot, this will be very helpful to the reader\n",
        "    # b. Legends if needed\n",
        "    # c. X-axis label\n",
        "    # d. Y-axis label"
      ],
      "execution_count": 11,
      "outputs": []
    },
    {
      "cell_type": "code",
      "metadata": {
        "id": "WpnRDNh5fLQQ"
      },
      "source": [
        "# Reffered from Reference notebook 5\n",
        "def categoricalEncoding(featureName,data,features_bow,features_tfidf):\n",
        " vectorizer = CountVectorizer()\n",
        " vectorizer.fit(X_train[featureName].values)\n",
        " if(data == 'X_train'):\n",
        "  return_val = vectorizer.transform(X_train[featureName].values)\n",
        "  features_Bow.extend(vectorizer.get_feature_names())\n",
        "  features_tfidf.extend(vectorizer.get_feature_names())\n",
        " else:\n",
        "  return_val = vectorizer.transform(X_test[featureName].values)\n",
        " print(return_val.shape)\n",
        " return return_val;"
      ],
      "execution_count": 12,
      "outputs": []
    },
    {
      "cell_type": "code",
      "metadata": {
        "colab": {
          "base_uri": "https://localhost:8080/"
        },
        "id": "ZShl7HxPkahs",
        "outputId": "0c511c89-1701-4ee7-c5f3-a86765d82ba9"
      },
      "source": [
        "# Reffered from Reference notebook 5\n",
        "print('Train Data Shapes')\n",
        "X_train_school_state_ohe = categoricalEncoding('school_state','X_train',features_Bow,features_tfidf)\n",
        "X_train_teacher_prefix_ohe = categoricalEncoding('teacher_prefix','X_train',features_Bow,features_tfidf)\n",
        "X_train_project_grade_category_ohe = categoricalEncoding('project_grade_category','X_train',features_Bow,features_tfidf)\n",
        "X_train_clean_categories_ohe = categoricalEncoding('clean_categories','X_train',features_Bow,features_tfidf)\n",
        "X_train_clean_subcategories = categoricalEncoding('clean_subcategories','X_train',features_Bow,features_tfidf)\n",
        "print('Test Data Shapes')\n",
        "X_test_school_state_ohe = categoricalEncoding('school_state','X_test',features_Bow,features_tfidf)\n",
        "X_test_teacher_prefix_ohe = categoricalEncoding('teacher_prefix','X_test',features_Bow,features_tfidf)\n",
        "X_test_project_grade_category_ohe = categoricalEncoding('project_grade_category','X_test',features_Bow,features_tfidf)\n",
        "X_test_clean_categories_ohe = categoricalEncoding('clean_categories','X_test',features_Bow,features_tfidf)\n",
        "X_test_clean_subcategories = categoricalEncoding('clean_subcategories','X_test',features_Bow,features_tfidf)"
      ],
      "execution_count": 13,
      "outputs": [
        {
          "output_type": "stream",
          "text": [
            "Train Data Shapes\n",
            "(73196, 51)\n",
            "(73196, 5)\n",
            "(73196, 4)\n",
            "(73196, 9)\n",
            "(73196, 30)\n",
            "Test Data Shapes\n",
            "(36052, 51)\n",
            "(36052, 5)\n",
            "(36052, 4)\n",
            "(36052, 9)\n",
            "(36052, 30)\n"
          ],
          "name": "stdout"
        }
      ]
    },
    {
      "cell_type": "markdown",
      "metadata": {
        "id": "3XhWYR7rlMAI"
      },
      "source": [
        "**Encoding numerical features: price,previous_project_approved**"
      ]
    },
    {
      "cell_type": "code",
      "metadata": {
        "id": "dRSdVrtQl3RD"
      },
      "source": [
        "# Reffered from Reference notebook 5\n",
        "from sklearn.preprocessing import Normalizer\n",
        "def NumericalEncoding(featureName,data,features_Bow,features_tfidf):\n",
        " normalizer = Normalizer()\n",
        " normalizer.fit(X_train[featureName].values.reshape(1,-1))\n",
        " if(data == 'X_train'):\n",
        "  return_val = normalizer.transform(X_train['price'].values.reshape(1,-1))\n",
        "  return_val = return_val.reshape(-1,1)\n",
        "  features_Bow.extend(return_val)\n",
        "  features_tfidf.extend(return_val)\n",
        " else:\n",
        "  return_val = normalizer.transform(X_test['price'].values.reshape(1,-1))\n",
        "  return_val = return_val.reshape(-1,1)\n",
        " print(return_val.shape)\n",
        " return return_val\n"
      ],
      "execution_count": 14,
      "outputs": []
    },
    {
      "cell_type": "code",
      "metadata": {
        "colab": {
          "base_uri": "https://localhost:8080/"
        },
        "id": "mAlKBpGamgy0",
        "outputId": "1470af23-1d78-443b-fc4e-1943a02a5400"
      },
      "source": [
        "print('Train Data Shapes')\n",
        "X_train_PPP_ohe = NumericalEncoding('teacher_number_of_previously_posted_projects','X_train',features_Bow,features_tfidf)\n",
        "X_train_price_ohe = NumericalEncoding('price','X_train',features_Bow,features_tfidf)\n",
        "print('Test Data Shapes')\n",
        "X_test_PPP_ohe = NumericalEncoding('teacher_number_of_previously_posted_projects','X_test',features_Bow,features_tfidf)\n",
        "X_test_price_ohe = NumericalEncoding('price','X_test',features_Bow,features_tfidf)"
      ],
      "execution_count": 15,
      "outputs": [
        {
          "output_type": "stream",
          "text": [
            "Train Data Shapes\n",
            "(73196, 1)\n",
            "(73196, 1)\n",
            "Test Data Shapes\n",
            "(36052, 1)\n",
            "(36052, 1)\n"
          ],
          "name": "stdout"
        }
      ]
    },
    {
      "cell_type": "markdown",
      "metadata": {
        "id": "70C0qr2jmrUN"
      },
      "source": [
        "**concating all the features**"
      ]
    },
    {
      "cell_type": "code",
      "metadata": {
        "colab": {
          "base_uri": "https://localhost:8080/"
        },
        "id": "OxOR_tL5nMC7",
        "outputId": "34c964ba-c569-45cd-b933-5c70a921bdeb"
      },
      "source": [
        "# Reffered from Reference notebook 5\n",
        "from scipy.sparse import hstack\n",
        "X_tr_bow = hstack((X_train_essay_bow,X_train_school_state_ohe,X_train_teacher_prefix_ohe,X_train_project_grade_category_ohe,\n",
        " X_train_clean_categories_ohe,X_train_clean_subcategories,X_train_PPP_ohe,X_train_price_ohe)).tocsr()\n",
        "X_ts_bow = hstack((X_test_essay_bow,X_test_school_state_ohe,X_test_teacher_prefix_ohe,X_test_project_grade_category_ohe,\n",
        " X_test_clean_categories_ohe,X_test_clean_subcategories,X_test_PPP_ohe,X_test_price_ohe)).tocsr()\n",
        "X_tr_tfidf = hstack((X_train_essay_tfidf,X_train_school_state_ohe,X_train_teacher_prefix_ohe,X_train_project_grade_category_ohe,\n",
        " X_train_clean_categories_ohe,X_train_clean_subcategories,X_train_PPP_ohe,X_train_price_ohe)).tocsr()\n",
        "X_ts_tfidf = hstack((X_test_essay_tfidf,X_test_school_state_ohe,X_test_teacher_prefix_ohe,X_test_project_grade_category_ohe,\n",
        " X_test_clean_categories_ohe,X_test_clean_subcategories,X_test_PPP_ohe,X_test_price_ohe)).tocsr()\n",
        "print('Final Train Data Set Shape ESSAY IN BOW',X_tr_bow.shape)\n",
        "print('Final Test Data Sset shape ESSAY IN BOW',X_ts_bow.shape)\n",
        "print('Final Train Data Set Shape ESSAY IN TFIDF',X_tr_tfidf.shape)\n",
        "print('Final Test Data Sset shape ESSAY IN TFIDF',X_ts_tfidf.shape)"
      ],
      "execution_count": 16,
      "outputs": [
        {
          "output_type": "stream",
          "text": [
            "Final Train Data Set Shape ESSAY IN BOW (73196, 5101)\n",
            "Final Test Data Sset shape ESSAY IN BOW (36052, 5101)\n",
            "Final Train Data Set Shape ESSAY IN TFIDF (73196, 5101)\n",
            "Final Test Data Sset shape ESSAY IN TFIDF (36052, 5101)\n"
          ],
          "name": "stdout"
        }
      ]
    },
    {
      "cell_type": "markdown",
      "metadata": {
        "id": "yYHPYadYb3dh"
      },
      "source": [
        "<h2>1.5 Appling NB on different kind of featurization as mentioned in the instructions</h2>\n",
        "\n",
        "<br>Apply NB on different kind of featurization as mentioned in the instructions\n",
        "<br> For Every model that you work on make sure you do the step 2 and step 3 of instrucations"
      ]
    },
    {
      "cell_type": "code",
      "metadata": {
        "id": "DNwqilFxb3di"
      },
      "source": [
        "# please write all the code with proper documentation, and proper titles for each subsection\n",
        "# go through documentations and blogs before you start coding\n",
        "# first figure out what to do, and then think about how to do.\n",
        "# reading and understanding error messages will be very much helpfull in debugging your code\n",
        "# when you plot any graph make sure you use \n",
        "    # a. Title, that describes your plot, this will be very helpful to the reader\n",
        "    # b. Legends if needed\n",
        "    # c. X-axis label\n",
        "    # d. Y-axis label"
      ],
      "execution_count": 17,
      "outputs": []
    },
    {
      "cell_type": "code",
      "metadata": {
        "id": "NeG21MPtnSsg"
      },
      "source": [
        "# With Ref from Ref Notebook 5\n",
        "def batch_predict(clf, data):\n",
        " y_data_pred = []\n",
        " tr_loop = data.shape[0] - data.shape[0]%1000\n",
        " for i in range(0, tr_loop, 1000):\n",
        "  y_data_pred.extend(clf.predict_proba(data[i:i+1000])[:,1])\n",
        " if data.shape[0]%1000 !=0:\n",
        "  y_data_pred.extend(clf.predict_proba(data[tr_loop:])[:,1])\n",
        " return y_data_pred"
      ],
      "execution_count": 18,
      "outputs": []
    },
    {
      "cell_type": "code",
      "metadata": {
        "id": "o-Y9wU4AoKZ4"
      },
      "source": [
        "# With Ref from Reference notebook 5\n",
        "import matplotlib.pyplot as plt\n",
        "import sklearn\n",
        "import math\n",
        "from sklearn.naive_bayes import MultinomialNB\n",
        "import matplotlib.pyplot as plt\n",
        "from sklearn.metrics import roc_auc_score\n",
        "from tqdm import tqdm\n",
        "def customFunctionValidation(X_train_total):\n",
        "\n",
        " train_auc = []\n",
        " cv_auc = []\n",
        " alpha = [0.00001,0.0001,0.001,0.01,0.1,1,10,100,1000,10000]  #selecting the best alpha out of these\n",
        " X_train_bow, X_cv, y_train_bow, y_cv = train_test_split(X_train_total, y_train, test_size=0.33, stratify=y_train)\n",
        " for i in tqdm(alpha):\n",
        "  model = MultinomialNB(alpha=i, class_prior =[0.5, 0.5])\n",
        "  model.fit(X_train_bow,y_train_bow)\n",
        "  y_train_pred = batch_predict(model,X_train_bow)\n",
        "  y_cv_pred = batch_predict(model,X_cv)\n",
        "  train_auc.append(roc_auc_score(y_train_bow,y_train_pred))\n",
        "  cv_auc.append(roc_auc_score(y_cv, y_cv_pred))\n",
        " print('Normal Alpha values',alpha)\n",
        " alpha = [math.log10(i) for i in alpha]\n",
        " print('Log based Alpha values',alpha)\n",
        " plt.plot(alpha, train_auc, label='Train AUC')\n",
        " plt.plot(alpha, cv_auc, label='CV AUC')\n",
        " plt.scatter(alpha, train_auc, label='Train AUC points')\n",
        " plt.scatter(alpha, cv_auc, label='CV AUC points')\n",
        " plt.legend()\n",
        " plt.xlabel(\"Alpha: hyperparameter\")\n",
        " plt.ylabel(\"AUC\")\n",
        " plt.title(\"ERROR PLOTS\")\n",
        " plt.grid()\n",
        " plt.show()"
      ],
      "execution_count": 19,
      "outputs": []
    },
    {
      "cell_type": "code",
      "metadata": {
        "id": "T-wqIuF0vFIp",
        "colab": {
          "base_uri": "https://localhost:8080/",
          "height": 346
        },
        "outputId": "92c43501-b209-4d1d-f37a-3a975d100c4f"
      },
      "source": [
        "customFunctionValidation(X_tr_bow)"
      ],
      "execution_count": 20,
      "outputs": [
        {
          "output_type": "stream",
          "text": [
            "100%|██████████| 10/10 [00:02<00:00,  3.42it/s]\n"
          ],
          "name": "stderr"
        },
        {
          "output_type": "stream",
          "text": [
            "Normal Alpha values [1e-05, 0.0001, 0.001, 0.01, 0.1, 1, 10, 100, 1000, 10000]\n",
            "Log based Alpha values [-5.0, -4.0, -3.0, -2.0, -1.0, 0.0, 1.0, 2.0, 3.0, 4.0]\n"
          ],
          "name": "stdout"
        },
        {
          "output_type": "display_data",
          "data": {
            "image/png": "[encoded data removed]",
            "text/plain": [
              "<Figure size 432x288 with 1 Axes>"
            ]
          },
          "metadata": {
            "tags": [],
            "needs_background": "light"
          }
        }
      ]
    },
    {
      "cell_type": "code",
      "metadata": {
        "id": "xXtZhyOvvSAt"
      },
      "source": [
        "best_alpha = 0.1"
      ],
      "execution_count": 21,
      "outputs": []
    },
    {
      "cell_type": "code",
      "metadata": {
        "id": "uFWOQ4T0vrNv"
      },
      "source": [
        "from sklearn.metrics import roc_curve, auc,confusion_matrix\n",
        "def actualModel(x_train_total,x_test_total):\n",
        "\n",
        " model = MultinomialNB(alpha=best_alpha,class_prior =[0.5, 0.5])\n",
        " model.fit(x_train_total, y_train)\n",
        " y_train_pred = batch_predict(model, x_train_total)\n",
        " y_test_pred = batch_predict(model, x_test_total)\n",
        " train_fpr, train_tpr, tr_thresholds = roc_curve(y_train, y_train_pred)\n",
        " test_fpr, test_tpr, te_thresholds = roc_curve(y_test, y_test_pred)\n",
        " plt.plot(train_fpr, train_tpr, label=\"train AUC =\"+str(auc(train_fpr, train_tpr)))\n",
        " plt.plot(test_fpr, test_tpr, label=\"test AUC =\"+str(auc(test_fpr, test_tpr)))\n",
        " plt.legend()\n",
        " plt.xlabel(\"alpha: hyperparameter\")\n",
        " plt.ylabel(\"AUC\")\n",
        " plt.title(\"ERROR PLOTS\")\n",
        " plt.grid()\n",
        " plt.show()\n",
        " return y_test_pred,model;"
      ],
      "execution_count": 22,
      "outputs": []
    },
    {
      "cell_type": "code",
      "metadata": {
        "id": "dSv01IV3wHN8",
        "colab": {
          "base_uri": "https://localhost:8080/",
          "height": 295
        },
        "outputId": "32ac517d-ffe3-4a3b-f929-da7f3a0e977f"
      },
      "source": [
        "y_test_pred ,model= actualModel(X_tr_bow,X_ts_bow)"
      ],
      "execution_count": 23,
      "outputs": [
        {
          "output_type": "display_data",
          "data": {
            "image/png": "[encoded data removed]",
            "text/plain": [
              "<Figure size 432x288 with 1 Axes>"
            ]
          },
          "metadata": {
            "tags": [],
            "needs_background": "light"
          }
        }
      ]
    },
    {
      "cell_type": "markdown",
      "metadata": {
        "id": "D46aSWHawUOH"
      },
      "source": [
        "**confusion Matrix**"
      ]
    },
    {
      "cell_type": "code",
      "metadata": {
        "id": "FKxTqvohwQN6"
      },
      "source": [
        "def confusionMatrics():\n",
        "\n",
        " y_predicted_values =[]\n",
        " for i in y_test_pred:\n",
        "  if i > 0.5:\n",
        "    y_predicted_values.append(1)\n",
        "  else:\n",
        "    y_predicted_values.append(0)\n",
        " print('Confusion Matrics\\n',confusion_matrix(y_test,y_predicted_values))"
      ],
      "execution_count": 24,
      "outputs": []
    },
    {
      "cell_type": "code",
      "metadata": {
        "id": "w23WQ5zfwwf3",
        "colab": {
          "base_uri": "https://localhost:8080/"
        },
        "outputId": "9e2c8711-0519-4cd2-8257-88ec44ec41c8"
      },
      "source": [
        "confusionMatrics()"
      ],
      "execution_count": 25,
      "outputs": [
        {
          "output_type": "stream",
          "text": [
            "Confusion Matrics\n",
            " [[ 3465  1994]\n",
            " [10739 19854]]\n"
          ],
          "name": "stdout"
        }
      ]
    },
    {
      "cell_type": "markdown",
      "metadata": {
        "id": "l5JgVy_uw61M"
      },
      "source": [
        "**Printing top 20 features**"
      ]
    },
    {
      "cell_type": "code",
      "metadata": {
        "id": "433RKufPxcZm",
        "colab": {
          "base_uri": "https://localhost:8080/"
        },
        "outputId": "7e6d135c-0c84-4cc8-ea96-e0acd13c8665"
      },
      "source": [
        "# Reffered from https://stackoverflow.com/questions/54988116/why-am-i-getting-almost-same-top-10-features-using-multinomial-naive-bayes-class\n",
        "import numpy as np\n",
        "sorted_idx = np.argsort( model.feature_log_prob_[1] )[-20:]\n",
        "print(sorted_idx)\n",
        "print(len(features_Bow))\n",
        "for i in sorted_idx:\n",
        " print(features_tfidf[i])"
      ],
      "execution_count": 27,
      "outputs": [
        {
          "output_type": "stream",
          "text": [
            "[ 992 2473 4659 2861 4880 3412 4777 2847 2580 1864 2244 2799 4460 2938\n",
            " 4401  672 2301 2779 3586 3996]\n",
            "151491\n",
            "consideration\n",
            "inventors\n",
            "trend\n",
            "mention\n",
            "wheel\n",
            "poorest\n",
            "venture\n",
            "mediums\n",
            "lacking\n",
            "flowers\n",
            "horizons\n",
            "marker\n",
            "teacher\n",
            "modify\n",
            "surprised\n",
            "calculate\n",
            "imaginative\n",
            "male\n",
            "purchasing\n",
            "sending\n"
          ],
          "name": "stdout"
        }
      ]
    },
    {
      "cell_type": "markdown",
      "metadata": {
        "id": "SgtWuJUgxl6Y"
      },
      "source": [
        "**Applying NB on TFIDF Featurization**"
      ]
    },
    {
      "cell_type": "code",
      "metadata": {
        "id": "UiTZzy0Vx1PP",
        "colab": {
          "base_uri": "https://localhost:8080/",
          "height": 346
        },
        "outputId": "3da8942c-1b4f-4a16-a2d9-9aad27fd27b3"
      },
      "source": [
        "customFunctionValidation(X_tr_tfidf)"
      ],
      "execution_count": 28,
      "outputs": [
        {
          "output_type": "stream",
          "text": [
            "100%|██████████| 10/10 [00:02<00:00,  4.04it/s]\n"
          ],
          "name": "stderr"
        },
        {
          "output_type": "stream",
          "text": [
            "Normal Alpha values [1e-05, 0.0001, 0.001, 0.01, 0.1, 1, 10, 100, 1000, 10000]\n",
            "Log based Alpha values [-5.0, -4.0, -3.0, -2.0, -1.0, 0.0, 1.0, 2.0, 3.0, 4.0]\n"
          ],
          "name": "stdout"
        },
        {
          "output_type": "display_data",
          "data": {
            "image/png": "[encoded data removed]",
            "text/plain": [
              "<Figure size 432x288 with 1 Axes>"
            ]
          },
          "metadata": {
            "tags": [],
            "needs_background": "light"
          }
        }
      ]
    },
    {
      "cell_type": "code",
      "metadata": {
        "id": "6dRT8P-qx79q",
        "colab": {
          "base_uri": "https://localhost:8080/",
          "height": 295
        },
        "outputId": "d22555d5-1642-4d2e-bc18-1a719a593508"
      },
      "source": [
        "best_alpha = 0.001\n",
        "y_test_pred,model=actualModel(X_tr_tfidf,X_ts_tfidf)"
      ],
      "execution_count": 29,
      "outputs": [
        {
          "output_type": "display_data",
          "data": {
            "image/png": "[encoded data removed]",
            "text/plain": [
              "<Figure size 432x288 with 1 Axes>"
            ]
          },
          "metadata": {
            "tags": [],
            "needs_background": "light"
          }
        }
      ]
    },
    {
      "cell_type": "code",
      "metadata": {
        "id": "L3f0K3PtyKwb",
        "colab": {
          "base_uri": "https://localhost:8080/"
        },
        "outputId": "53113b93-06e2-402f-c192-c8ccf08ae587"
      },
      "source": [
        "confusionMatrics()"
      ],
      "execution_count": 30,
      "outputs": [
        {
          "output_type": "stream",
          "text": [
            "Confusion Matrics\n",
            " [[ 3271  2188]\n",
            " [10898 19695]]\n"
          ],
          "name": "stdout"
        }
      ]
    },
    {
      "cell_type": "markdown",
      "metadata": {
        "id": "ItkKBK006ww_"
      },
      "source": [
        "**Finding top 20 Features using set2**"
      ]
    },
    {
      "cell_type": "code",
      "metadata": {
        "colab": {
          "base_uri": "https://localhost:8080/"
        },
        "id": "jPiWSH337UIz",
        "outputId": "04c75e6b-d131-4ac6-9df1-fa5f42c68b40"
      },
      "source": [
        "# Reffered from https://stackoverflow.com/questions/54988116/why-am-i-getting-almost-same-top-10-features-using-multinomial-naive-bayes-class\n",
        "import numpy as np\n",
        "sorted_idx = np.argsort( model.feature_log_prob_[1] )[-20:]\n",
        "print(sorted_idx)\n",
        "print(len(features_tfidf))\n",
        "for i in sorted_idx:\n",
        " print(features_tfidf[i])\n"
      ],
      "execution_count": 32,
      "outputs": [
        {
          "output_type": "stream",
          "text": [
            "[5069 5084 5052 5058 5060 5067 5095 5062 4345 5004 5057 5087 5088 5086\n",
            " 5056 5054 5065 5059 5064 5053]\n",
            "151491\n",
            "appliedsciences\n",
            "health_wellness\n",
            "mr\n",
            "grades_9_12\n",
            "appliedlearning\n",
            "specialneeds\n",
            "specialneeds\n",
            "health_sports\n",
            "students\n",
            "ca\n",
            "grades_6_8\n",
            "literature_writing\n",
            "mathematics\n",
            "literacy\n",
            "grades_3_5\n",
            "ms\n",
            "math_science\n",
            "grades_prek_2\n",
            "literacy_language\n",
            "mrs\n"
          ],
          "name": "stdout"
        }
      ]
    },
    {
      "cell_type": "markdown",
      "metadata": {
        "id": "lS9hIHdib3dp"
      },
      "source": [
        "<h1>3. Summary</h1>\n",
        "\n",
        "<br> as mentioned in the step 5 of instructions"
      ]
    },
    {
      "cell_type": "code",
      "metadata": {
        "colab": {
          "base_uri": "https://localhost:8080/"
        },
        "id": "HOtc_AM073d_",
        "outputId": "228b2f35-98aa-4a67-f483-223ad2771e74"
      },
      "source": [
        "print('+-----------+----------------+----------------+-----+')\n",
        "print('|Vectorizer | Model          | HyperParameter | AUC |')\n",
        "print('+---------------------------------------------------+')\n",
        "print('|BOW        | Multinomial NB | 0.1            | 0.68|')\n",
        "print('+---------------------------------------------------+')\n",
        "print('|TFIDF      | Multinomial NB | 0.001          | 0.67|')\n",
        "print('+---------------------------------------------------+')"
      ],
      "execution_count": 34,
      "outputs": [
        {
          "output_type": "stream",
          "text": [
            "+-----------+----------------+----------------+-----+\n",
            "|Vectorizer | Model          | HyperParameter | AUC |\n",
            "+---------------------------------------------------+\n",
            "|BOW        | Multinomial NB | 0.1            | 0.68|\n",
            "+---------------------------------------------------+\n",
            "|TFIDF      | Multinomial NB | 0.001          | 0.67|\n",
            "+---------------------------------------------------+\n"
          ],
          "name": "stdout"
        }
      ]
    },
    {
      "cell_type": "code",
      "metadata": {
        "id": "rN9iBbVNHPWg"
      },
      "source": [
        ""
      ],
      "execution_count": null,
      "outputs": []
    }
  ]
}